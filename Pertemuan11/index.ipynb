import matplotlib.pyplot as plt;
import pandas as pd

df = pd.read_excel('Pertemuan11/buah.xlsx','Sheet1')

print(df.head())